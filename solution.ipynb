{
 "cells": [
  {
   "cell_type": "code",
   "execution_count": 36,
   "metadata": {},
   "outputs": [
    {
     "name": "stdout",
     "output_type": "stream",
     "text": [
      "snail is at the beginning\n",
      "snail has not reached the well height, current day 0 and current height 0\n",
      "snail has not reached the well height, current day 1 and current height 10\n",
      "snail has not reached the well height, current day 2 and current height 20\n",
      "snail has not reached the well height, current day 3 and current height 30\n",
      "snail has not reached the well height, current day 4 and current height 40\n",
      "snail has not reached the well height, current day 5 and current height 50\n",
      "snail has not reached the well height, current day 6 and current height 60\n",
      "snail has not reached the well height, current day 7 and current height 70\n",
      "snail has not reached the well height, current day 8 and current height 80\n",
      "snail has not reached the well height, current day 9 and current height 90\n",
      "snail has not reached the well height, current day 10 and current height 100\n",
      "snail has not reached the well height, current day 11 and current height 110\n",
      "snail has not reached the well height, current day 12 and current height 120\n",
      "it is done in 13 days 130\n"
     ]
    }
   ],
   "source": [
    "well_height = 125\n",
    "daily_distance = 30\n",
    "nightly_distance = 20\n",
    "snail_position = 0\n",
    "days = 0\n",
    "daily_achievement = 10\n",
    "start = 0\n",
    "\n",
    "print (\"snail is at the beginning\")\n",
    "\n",
    "while start < well_height:\n",
    "    print(\"snail has not reached the well height, current day\", days,\"and current height\", start)\n",
    "    start += daily_achievement\n",
    "    days = days + 1\n",
    "print (\"it is done in\", days, \"days\", start)"
   ]
  },
  {
   "cell_type": "code",
   "execution_count": 143,
   "metadata": {},
   "outputs": [
    {
     "name": "stdout",
     "output_type": "stream",
     "text": [
      "Tag 1 legt die Schnecke 10 cm zurück 30\n",
      "Tag 2 legt die Schnecke 11 cm zurück 21\n",
      "Tag 3 legt die Schnecke 24 cm zurück 33\n",
      "Tag 4 legt die Schnecke 81 cm zurück 77\n",
      "Tag 5 legt die Schnecke 105 cm zurück 44\n"
     ]
    }
   ],
   "source": [
    "advance_cm = [30, 21, 33, 77, 44, 45, 23, 45, 12, 34, 55]\n",
    "well_height = 125\n",
    "days = 0\n",
    "height = 0\n",
    "lst = []\n",
    "\n",
    "\n",
    "for i in advance_cm:\n",
    "        height = i - 20\n",
    "        lst.append(height)\n",
    "        days = days + 1\n",
    "        if sum(lst) > well_height:\n",
    "            break\n",
    "        print(\"Tag\", days, \"legt die Schnecke\", sum(lst),\"cm zurück\",i)"
   ]
  },
  {
   "cell_type": "code",
   "execution_count": 146,
   "metadata": {},
   "outputs": [
    {
     "ename": "TypeError",
     "evalue": "'int' object is not iterable",
     "output_type": "error",
     "traceback": [
      "\u001b[0;31m---------------------------------------------------------------------------\u001b[0m",
      "\u001b[0;31mTypeError\u001b[0m                                 Traceback (most recent call last)",
      "\u001b[0;32m<ipython-input-146-f580c4d455d7>\u001b[0m in \u001b[0;36m<module>\u001b[0;34m\u001b[0m\n\u001b[1;32m      9\u001b[0m     \u001b[0mheight\u001b[0m \u001b[0;34m=\u001b[0m \u001b[0mi\u001b[0m \u001b[0;34m-\u001b[0m \u001b[0;36m20\u001b[0m\u001b[0;34m\u001b[0m\u001b[0;34m\u001b[0m\u001b[0m\n\u001b[1;32m     10\u001b[0m \u001b[0;34m\u001b[0m\u001b[0m\n\u001b[0;32m---> 11\u001b[0;31m     \u001b[0mprint\u001b[0m\u001b[0;34m(\u001b[0m\u001b[0mi\u001b[0m\u001b[0;34m,\u001b[0m \u001b[0mmax\u001b[0m\u001b[0;34m(\u001b[0m\u001b[0mheight\u001b[0m\u001b[0;34m)\u001b[0m\u001b[0;34m)\u001b[0m\u001b[0;34m\u001b[0m\u001b[0;34m\u001b[0m\u001b[0m\n\u001b[0m",
      "\u001b[0;31mTypeError\u001b[0m: 'int' object is not iterable"
     ]
    }
   ],
   "source": [
    "advance_cm = [30, 21, 33, 77, 44, 45, 23, 45, 12, 34, 55]\n",
    "well_height = 125\n",
    "days = 0\n",
    "height = 0\n",
    "lst = []\n",
    "\n",
    "\n",
    "for i in advance_cm:\n",
    "    height = i - 20\n",
    "    \n",
    "    print(i, max(height))"
   ]
  },
  {
   "cell_type": "code",
   "execution_count": null,
   "metadata": {},
   "outputs": [],
   "source": []
  }
 ],
 "metadata": {
  "kernelspec": {
   "display_name": "Python 3",
   "language": "python",
   "name": "python3"
  },
  "language_info": {
   "codemirror_mode": {
    "name": "ipython",
    "version": 3
   },
   "file_extension": ".py",
   "mimetype": "text/x-python",
   "name": "python",
   "nbconvert_exporter": "python",
   "pygments_lexer": "ipython3",
   "version": "3.9.1"
  }
 },
 "nbformat": 4,
 "nbformat_minor": 4
}
